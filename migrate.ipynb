{
 "cells": [
  {
   "cell_type": "code",
   "execution_count": null,
   "id": "6daf099c",
   "metadata": {},
   "outputs": [],
   "source": [
    "import sqlite3\n",
    "import os"
   ]
  },
  {
   "cell_type": "code",
   "execution_count": null,
   "id": "e554a9a6",
   "metadata": {},
   "outputs": [],
   "source": [
    "db_old = sqlite3.connect('old/NadekoBot.db')\n",
    "cursor_old = db_old.cursor();\n",
    "\n",
    "db_new = sqlite3.connect('new/NadekoBot.db')\n",
    "cursor_new = db_new.cursor();\n"
   ]
  },
  {
   "cell_type": "code",
   "execution_count": null,
   "id": "bdfab8e6",
   "metadata": {},
   "outputs": [],
   "source": [
    "tables = {\n",
    "    #'Permissions': ['Id', 'DateAdded', 'GuildConfigId', '`Index`', 'IsCustomCommand', 'PrimaryTarget', 'PrimaryTargetId', 'SecondaryTarget', 'SecondaryTargetName', 'State'],\n",
    "    'DiscordUser': ['Id', 'AvatarId', 'Discriminator', 'UserId', 'DateAdded', 'Username', 'ClubId', 'NotifyOnLevelUp', 'TotalXp', 'IsClubAdmin', 'CurrencyAmount'],\n",
    "    'ClubApplicants': ['ClubId', 'UserId'],\n",
    "    'Clubs': ['Id', 'DateAdded', 'Description', 'ImageUrl', 'Name', 'OwnerId', 'Xp'],\n",
    "    'CommandAlias':['Id', 'Trigger', 'Mapping', 'GuildConfigId', 'DateAdded'],\n",
    "    'UserXpStats': ['Id', 'AwardedXp', 'DateAdded', 'GuildId', 'NotifyOnLevelUp', 'UserId', 'Xp'],\n",
    "    'WaifuInfo': ['Id', 'WaifuId', 'ClaimerId', 'AffinityId', 'Price', 'DateAdded'],\n",
    "    'WaifuItem': ['Id', 'DateAdded', 'ItemEmoji', 'WaifuInfoId'],\n",
    "    'WaifuUpdates': ['Id', 'UserId', 'UpdateType', 'OldId', 'NewId', 'DateAdded'],\n",
    "    'Warnings': ['Id', 'DateAdded', 'Forgiven', 'ForgivenBy', 'GuildId', 'Moderator', 'Reason', 'UserId'],\n",
    "    'WarningPunishment': ['Id', 'Count', 'Punishment', 'Time', 'RoleId', 'GuildConfigId', 'DateAdded'],\n",
    "    'GuildConfigs': ['Id', 'AutoDeleteByeMessagesTimer', 'AutoDeleteGreetMessagesTimer', 'AutoDeleteSelfAssignedRoleMessages', 'ChannelByeMessageText', 'ChannelGreetMessageText',  'DmGreetMessageText', 'FilterInvites',  'FilterWords', 'GameVoiceChannel', 'GreetMessageChannelId', 'GuildId', 'Locale', 'MuteRoleName', 'PermissionRole', 'Prefix', 'SendChannelByeMessage', 'SendChannelGreetMessage', 'ByeMessageChannelId', 'CleverbotEnabled', 'DeleteMessageOnCommand', 'ExclusiveSelfAssignedRoles','FilterLinks', 'NotifyStreamOffline', 'SendDmGreetMessage', 'VerbosePermissions', 'WarnExpireAction', 'WarnExpireHours']\n",
    "    \n",
    "};\n"
   ]
  },
  {
   "cell_type": "code",
   "execution_count": null,
   "id": "690f6180",
   "metadata": {
    "scrolled": false
   },
   "outputs": [],
   "source": [
    "for i, j in tables.items():\n",
    "    print(i);\n",
    "    #print(j);\n",
    "    query = \"SELECT * FROM '\"+i+\"'\";\n",
    "    #print(query);\n",
    "    cursor_new.execute(query);\n",
    "\n",
    "    descriptions = cursor_new.description;\n",
    "    keys = [];\n",
    "    for description in descriptions:\n",
    "        keys.append(description[0])\n",
    "    print(j);\n",
    "    print(keys);\n",
    "    \n",
    "    items = cursor_new.fetchall();\n",
    "    #print(items);\n",
    "    query = \"DELETE FROM '\"+i+\"';\";\n",
    "    print(query);\n",
    "    cursor_new.execute(query);\n",
    "    print(\"\")\n",
    "db_new.commit()"
   ]
  },
  {
   "cell_type": "code",
   "execution_count": null,
   "id": "f71a3cc1",
   "metadata": {},
   "outputs": [],
   "source": [
    "\n",
    "for i, j in tables.items():\n",
    "    print(i);\n",
    "    columns = \", \".join(str(col) for col in j)\n",
    "    if i == 'Permissions':\n",
    "        table = 'Permissionv2';\n",
    "    else:\n",
    "        table = i\n",
    "        \n",
    "    query = \"SELECT \"+columns+\" FROM '\"+table+\"'\";\n",
    "    print(query);\n",
    "    cursor_old.execute(query);\n",
    "    descriptions = cursor_old.description;\n",
    "    keys = [];\n",
    "    for description in descriptions:\n",
    "        keys.append(description[0])\n",
    "    print(j);\n",
    "    print(keys);\n",
    "    items = cursor_old.fetchall();\n",
    "    #print(items)\n",
    "    if i == 'GuildConfigs':\n",
    "        keys.append('BoostMessageChannelId')\n",
    "        keys.append('BoostMessageDeleteAfter')\n",
    "        keys.append('DeleteStreamOnlineMessage')\n",
    "        keys.append('WarningsInitialized')\n",
    "        keys.append('SendBoostMessage')\n",
    "    key_value = \"','\".join(str(key) for key in keys)\n",
    "    for item in items:\n",
    "        if i == 'GuildConfigs':\n",
    "            item = item + ('','',0,0,0, )\n",
    "        value_value = \",\".join('?' for val in item)\n",
    "\n",
    "        query = \"INSERT INTO '\"+i+\"' ('\"+key_value+\"') VALUES (\"+value_value+\")\";\n",
    "        #print(query);\n",
    "        cursor_new.execute(query, item);\n",
    "\n",
    "db_new.commit();\n",
    "    #print(items[0]);"
   ]
  },
  {
   "cell_type": "code",
   "execution_count": null,
   "id": "2c8b3b8c",
   "metadata": {},
   "outputs": [],
   "source": []
  }
 ],
 "metadata": {
  "kernelspec": {
   "display_name": "Python 3 (ipykernel)",
   "language": "python",
   "name": "python3"
  },
  "language_info": {
   "codemirror_mode": {
    "name": "ipython",
    "version": 3
   },
   "file_extension": ".py",
   "mimetype": "text/x-python",
   "name": "python",
   "nbconvert_exporter": "python",
   "pygments_lexer": "ipython3",
   "version": "3.10.4"
  }
 },
 "nbformat": 4,
 "nbformat_minor": 5
}
